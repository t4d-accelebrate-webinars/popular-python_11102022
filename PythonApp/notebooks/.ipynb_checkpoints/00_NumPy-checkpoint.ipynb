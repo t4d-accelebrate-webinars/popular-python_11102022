{
 "cells": [
  {
   "cell_type": "code",
   "execution_count": 6,
   "id": "a3e2dfda-2148-4ba3-94e4-5db9fb6398bb",
   "metadata": {},
   "outputs": [],
   "source": [
    "import numpy as np"
   ]
  },
  {
   "cell_type": "code",
   "execution_count": 7,
   "id": "ea1c50f1-5bc5-46b5-b649-11f5c871e1fc",
   "metadata": {},
   "outputs": [
    {
     "data": {
      "text/plain": [
       "[1, 2, 3, 4, 5]"
      ]
     },
     "execution_count": 7,
     "metadata": {},
     "output_type": "execute_result"
    }
   ],
   "source": [
    "nums_list = [1,2,3,4,5]\n",
    "\n",
    "nums_list"
   ]
  },
  {
   "cell_type": "code",
   "execution_count": 8,
   "id": "a569824e-9b55-480e-8cd7-1facb3113e84",
   "metadata": {},
   "outputs": [
    {
     "data": {
      "text/plain": [
       "array([1, 2, 3, 4, 5])"
      ]
     },
     "execution_count": 8,
     "metadata": {},
     "output_type": "execute_result"
    }
   ],
   "source": [
    "nums_arr = np.array(nums)\n",
    "\n",
    "nums_arr"
   ]
  },
  {
   "cell_type": "code",
   "execution_count": 12,
   "id": "d00f0b6c-189b-4e92-a27d-9f206619932b",
   "metadata": {},
   "outputs": [
    {
     "name": "stdout",
     "output_type": "stream",
     "text": [
      "[1, 2, 3, 4, 5]\n"
     ]
    },
    {
     "data": {
      "text/plain": [
       "[2, 4, 6, 8, 10]"
      ]
     },
     "execution_count": 12,
     "metadata": {},
     "output_type": "execute_result"
    }
   ],
   "source": [
    "double_nums_list = []\n",
    "\n",
    "for num in nums_list:\n",
    "    double_nums_list.append(num * 2)\n",
    "    \n",
    "display(nums_list)\n",
    "double_nums_list"
   ]
  },
  {
   "cell_type": "code",
   "execution_count": 13,
   "id": "363bd516-88d7-4dd2-9ff8-09bc59ef0a43",
   "metadata": {},
   "outputs": [
    {
     "data": {
      "text/plain": [
       "array([1, 2, 3, 4, 5])"
      ]
     },
     "metadata": {},
     "output_type": "display_data"
    },
    {
     "data": {
      "text/plain": [
       "array([ 2,  4,  6,  8, 10])"
      ]
     },
     "execution_count": 13,
     "metadata": {},
     "output_type": "execute_result"
    }
   ],
   "source": [
    "double_nums_arr = nums_arr * 2\n",
    "\n",
    "display(nums_arr)\n",
    "double_nums"
   ]
  },
  {
   "cell_type": "code",
   "execution_count": null,
   "id": "650ee406-5a97-40b0-bb3f-62a77ef627a9",
   "metadata": {},
   "outputs": [],
   "source": []
  }
 ],
 "metadata": {
  "kernelspec": {
   "display_name": "venv",
   "language": "python",
   "name": "venv"
  },
  "language_info": {
   "codemirror_mode": {
    "name": "ipython",
    "version": 3
   },
   "file_extension": ".py",
   "mimetype": "text/x-python",
   "name": "python",
   "nbconvert_exporter": "python",
   "pygments_lexer": "ipython3",
   "version": "3.11.0"
  }
 },
 "nbformat": 4,
 "nbformat_minor": 5
}
